{
 "cells": [
  {
   "cell_type": "markdown",
   "metadata": {
    "tags": [
     "pdf-title"
    ]
   },
   "source": [
    "# Dropout\n",
    "Dropout [1] is a technique for regularizing neural networks by randomly setting some output activations to zero during the forward pass. In this exercise you will implement a dropout layer and modify your fully-connected network to optionally use dropout.\n",
    "\n",
    "[1] [Geoffrey E. Hinton et al, \"Improving neural networks by preventing co-adaptation of feature detectors\", arXiv 2012](https://arxiv.org/abs/1207.0580)"
   ]
  },
  {
   "cell_type": "code",
   "execution_count": 1,
   "metadata": {
    "tags": [
     "pdf-ignore"
    ]
   },
   "outputs": [],
   "source": [
    "# As usual, a bit of setup\n",
    "from __future__ import print_function\n",
    "import time\n",
    "import numpy as np\n",
    "import matplotlib.pyplot as plt\n",
    "from ie590.classifiers.fc_net import *\n",
    "from ie590.data_utils import get_CIFAR10_data\n",
    "from ie590.gradient_check import eval_numerical_gradient, eval_numerical_gradient_array\n",
    "from ie590.solver import Solver\n",
    "\n",
    "%matplotlib inline\n",
    "plt.rcParams['figure.figsize'] = (10.0, 8.0) # set default size of plots\n",
    "plt.rcParams['image.interpolation'] = 'nearest'\n",
    "plt.rcParams['image.cmap'] = 'gray'\n",
    "\n",
    "# for auto-reloading external modules\n",
    "# see http://stackoverflow.com/questions/1907993/autoreload-of-modules-in-ipython\n",
    "%load_ext autoreload\n",
    "%autoreload 2\n",
    "\n",
    "def rel_error(x, y):\n",
    "  \"\"\" returns relative error \"\"\"\n",
    "  return np.max(np.abs(x - y) / (np.maximum(1e-8, np.abs(x) + np.abs(y))))"
   ]
  },
  {
   "cell_type": "code",
   "execution_count": 2,
   "metadata": {
    "tags": [
     "pdf-ignore"
    ]
   },
   "outputs": [
    {
     "name": "stdout",
     "output_type": "stream",
     "text": [
      "X_train:  (49000, 3, 32, 32)\n",
      "y_train:  (49000,)\n",
      "X_val:  (1000, 3, 32, 32)\n",
      "y_val:  (1000,)\n",
      "X_test:  (1000, 3, 32, 32)\n",
      "y_test:  (1000,)\n"
     ]
    }
   ],
   "source": [
    "# Load the (preprocessed) CIFAR10 data.\n",
    "\n",
    "data = get_CIFAR10_data()\n",
    "for k, v in data.items():\n",
    "  print('%s: ' % k, v.shape)"
   ]
  },
  {
   "cell_type": "markdown",
   "metadata": {},
   "source": [
    "# Dropout forward pass\n",
    "In the file `ie590/layers.py`, implement the forward pass for dropout. Since dropout behaves differently during training and testing, make sure to implement the operation for both modes.\n",
    "\n",
    "Once you have done so, run the cell below to test your implementation."
   ]
  },
  {
   "cell_type": "code",
   "execution_count": 3,
   "metadata": {},
   "outputs": [
    {
     "name": "stdout",
     "output_type": "stream",
     "text": [
      "Running tests with p =  0.25\n",
      "Mean of input:  10.000073983317677\n",
      "Mean of train-time output:  9.98080292226031\n",
      "Mean of test-time output:  10.000073983317677\n",
      "Fraction of train-time output set to zero:  0.750536\n",
      "Fraction of test-time output set to zero:  0.0\n",
      "\n",
      "Running tests with p =  0.4\n",
      "Mean of input:  10.000073983317677\n",
      "Mean of train-time output:  10.010557654593667\n",
      "Mean of test-time output:  10.000073983317677\n",
      "Fraction of train-time output set to zero:  0.599512\n",
      "Fraction of test-time output set to zero:  0.0\n",
      "\n",
      "Running tests with p =  0.7\n",
      "Mean of input:  10.000073983317677\n",
      "Mean of train-time output:  9.998440656659579\n",
      "Mean of test-time output:  10.000073983317677\n",
      "Fraction of train-time output set to zero:  0.30004\n",
      "Fraction of test-time output set to zero:  0.0\n",
      "\n"
     ]
    }
   ],
   "source": [
    "np.random.seed(220)\n",
    "x = np.random.randn(500, 500) + 10\n",
    "\n",
    "for p in [0.25, 0.4, 0.7]:\n",
    "  out, _ = dropout_forward(x, {'mode': 'train', 'p': p})\n",
    "  out_test, _ = dropout_forward(x, {'mode': 'test', 'p': p})\n",
    "\n",
    "  print('Running tests with p = ', p)\n",
    "  print('Mean of input: ', x.mean())\n",
    "  print('Mean of train-time output: ', out.mean())\n",
    "  print('Mean of test-time output: ', out_test.mean())\n",
    "  print('Fraction of train-time output set to zero: ', (out == 0).mean())\n",
    "  print('Fraction of test-time output set to zero: ', (out_test == 0).mean())\n",
    "  print()"
   ]
  },
  {
   "cell_type": "markdown",
   "metadata": {},
   "source": [
    "# Dropout backward pass\n",
    "In the file `ie590/layers.py`, implement the backward pass for dropout. After doing so, run the following cell to numerically gradient-check your implementation."
   ]
  },
  {
   "cell_type": "code",
   "execution_count": 4,
   "metadata": {},
   "outputs": [
    {
     "name": "stdout",
     "output_type": "stream",
     "text": [
      "dx relative error:  1.8928991957763582e-11\n"
     ]
    }
   ],
   "source": [
    "np.random.seed(220)\n",
    "x = np.random.randn(10, 10) + 10\n",
    "dout = np.random.randn(*x.shape)\n",
    "\n",
    "dropout_param = {'mode': 'train', 'p': 0.2, 'seed': 123}\n",
    "out, cache = dropout_forward(x, dropout_param)\n",
    "dx = dropout_backward(dout, cache)\n",
    "dx_num = eval_numerical_gradient_array(lambda xx: dropout_forward(xx, dropout_param)[0], x, dout)\n",
    "\n",
    "# Error should be around e-10 or less\n",
    "print('dx relative error: ', rel_error(dx, dx_num))"
   ]
  },
  {
   "cell_type": "markdown",
   "metadata": {
    "tags": [
     "pdf-inline"
    ]
   },
   "source": [
    "## Inline Question 1:\n",
    "What happens if we do not divide the values being passed through inverse dropout by `p` in the dropout layer? Why does that happen?\n",
    "\n",
    "## Answer:\n",
    "We will be considering only the summation of all possible sub-networks which may lead to exploding gradients. This happens because at test time we require an approximation of the expected output produced by the training phase, due to we only perform a forward call without dropping neurons out.\n"
   ]
  },
  {
   "cell_type": "markdown",
   "metadata": {},
   "source": [
    "# Fully-connected nets with Dropout\n",
    "In the file `ie590/classifiers/fc_net.py`, modify your implementation to use dropout. Specifically, if the constructor of the network receives a value that is not 1 for the `dropout` parameter, then the net should add a dropout layer immediately after every ReLU nonlinearity. After doing so, run the following to numerically gradient-check your implementation."
   ]
  },
  {
   "cell_type": "code",
   "execution_count": 5,
   "metadata": {},
   "outputs": [
    {
     "name": "stdout",
     "output_type": "stream",
     "text": [
      "Running check with dropout =  1\n",
      "Initial loss:  2.3109271789130945\n",
      "W1 relative error: 1.84e-05\n",
      "W2 relative error: 1.59e-03\n",
      "W3 relative error: 1.72e-06\n",
      "b1 relative error: 4.36e-07\n",
      "b2 relative error: 1.66e-07\n",
      "b3 relative error: 8.72e-11\n",
      "\n",
      "Running check with dropout =  0.75\n",
      "Initial loss:  2.302196875425341\n",
      "W1 relative error: 1.11e-06\n",
      "W2 relative error: 1.49e-03\n",
      "W3 relative error: 1.35e-06\n",
      "b1 relative error: 1.21e-07\n",
      "b2 relative error: 6.74e-07\n",
      "b3 relative error: 1.06e-10\n",
      "\n",
      "Running check with dropout =  0.5\n",
      "Initial loss:  2.3003797096332903\n",
      "W1 relative error: 1.45e-04\n",
      "W2 relative error: 1.02e-03\n",
      "W3 relative error: 3.49e-06\n",
      "b1 relative error: 9.15e-07\n",
      "b2 relative error: 2.86e-07\n",
      "b3 relative error: 8.60e-11\n",
      "\n"
     ]
    }
   ],
   "source": [
    "np.random.seed(220)\n",
    "N, D, H1, H2, C = 2, 15, 20, 30, 10\n",
    "X = np.random.randn(N, D)\n",
    "y = np.random.randint(C, size=(N,))\n",
    "\n",
    "for dropout in [1, 0.75, 0.5]:\n",
    "  print('Running check with dropout = ', dropout)\n",
    "  model = FullyConnectedNet([H1, H2], input_dim=D, num_classes=C,\n",
    "                            weight_scale=5e-2, dtype=np.float64,\n",
    "                            dropout=dropout, seed=123)\n",
    "\n",
    "  loss, grads = model.loss(X, y)\n",
    "  print('Initial loss: ', loss)\n",
    "  \n",
    "  # Relative errors should be around e-3 or less; Note that it's fine\n",
    " \n",
    "  for name in sorted(grads):\n",
    "    f = lambda _: model.loss(X, y)[0]\n",
    "    grad_num = eval_numerical_gradient(f, model.params[name], verbose=False, h=1e-5)\n",
    "    print('%s relative error: %.2e' % (name, rel_error(grad_num, grads[name])))\n",
    "  print()"
   ]
  },
  {
   "cell_type": "markdown",
   "metadata": {},
   "source": [
    "# Regularization experiment\n",
    "As an experiment, we will train a pair of two-layer networks on 500 training examples: one will use no dropout, and one will use a keep probability of 0.3. We will then visualize the training and validation accuracies of the two networks over time."
   ]
  },
  {
   "cell_type": "code",
   "execution_count": 6,
   "metadata": {
    "scrolled": false
   },
   "outputs": [
    {
     "name": "stdout",
     "output_type": "stream",
     "text": [
      "1\n",
      "(Iteration 1 / 125) loss: 8.304421\n",
      "(Epoch 0 / 25) train acc: 0.192000; val_acc: 0.195000\n",
      "(Epoch 1 / 25) train acc: 0.388000; val_acc: 0.228000\n",
      "(Epoch 2 / 25) train acc: 0.480000; val_acc: 0.249000\n",
      "(Epoch 3 / 25) train acc: 0.584000; val_acc: 0.273000\n",
      "(Epoch 4 / 25) train acc: 0.716000; val_acc: 0.285000\n",
      "(Epoch 5 / 25) train acc: 0.796000; val_acc: 0.297000\n",
      "(Epoch 6 / 25) train acc: 0.834000; val_acc: 0.265000\n",
      "(Epoch 7 / 25) train acc: 0.818000; val_acc: 0.262000\n",
      "(Epoch 8 / 25) train acc: 0.868000; val_acc: 0.259000\n",
      "(Epoch 9 / 25) train acc: 0.914000; val_acc: 0.268000\n",
      "(Epoch 10 / 25) train acc: 0.950000; val_acc: 0.251000\n",
      "(Epoch 11 / 25) train acc: 0.958000; val_acc: 0.259000\n",
      "(Epoch 12 / 25) train acc: 0.940000; val_acc: 0.281000\n",
      "(Epoch 13 / 25) train acc: 0.968000; val_acc: 0.283000\n",
      "(Epoch 14 / 25) train acc: 0.928000; val_acc: 0.279000\n",
      "(Epoch 15 / 25) train acc: 0.944000; val_acc: 0.263000\n",
      "(Epoch 16 / 25) train acc: 0.952000; val_acc: 0.280000\n",
      "(Epoch 17 / 25) train acc: 0.934000; val_acc: 0.280000\n",
      "(Epoch 18 / 25) train acc: 0.950000; val_acc: 0.288000\n",
      "(Epoch 19 / 25) train acc: 0.956000; val_acc: 0.274000\n",
      "(Epoch 20 / 25) train acc: 0.962000; val_acc: 0.273000\n",
      "(Iteration 101 / 125) loss: 0.241415\n",
      "(Epoch 21 / 25) train acc: 0.974000; val_acc: 0.265000\n",
      "(Epoch 22 / 25) train acc: 0.966000; val_acc: 0.275000\n",
      "(Epoch 23 / 25) train acc: 0.978000; val_acc: 0.269000\n",
      "(Epoch 24 / 25) train acc: 0.984000; val_acc: 0.295000\n",
      "(Epoch 25 / 25) train acc: 0.982000; val_acc: 0.308000\n",
      "\n",
      "0.3\n",
      "(Iteration 1 / 125) loss: 13.824388\n",
      "(Epoch 0 / 25) train acc: 0.192000; val_acc: 0.176000\n",
      "(Epoch 1 / 25) train acc: 0.378000; val_acc: 0.275000\n",
      "(Epoch 2 / 25) train acc: 0.464000; val_acc: 0.287000\n",
      "(Epoch 3 / 25) train acc: 0.538000; val_acc: 0.285000\n",
      "(Epoch 4 / 25) train acc: 0.596000; val_acc: 0.291000\n",
      "(Epoch 5 / 25) train acc: 0.622000; val_acc: 0.313000\n",
      "(Epoch 6 / 25) train acc: 0.678000; val_acc: 0.311000\n",
      "(Epoch 7 / 25) train acc: 0.686000; val_acc: 0.292000\n",
      "(Epoch 8 / 25) train acc: 0.760000; val_acc: 0.315000\n",
      "(Epoch 9 / 25) train acc: 0.762000; val_acc: 0.307000\n",
      "(Epoch 10 / 25) train acc: 0.774000; val_acc: 0.304000\n",
      "(Epoch 11 / 25) train acc: 0.828000; val_acc: 0.316000\n",
      "(Epoch 12 / 25) train acc: 0.844000; val_acc: 0.315000\n",
      "(Epoch 13 / 25) train acc: 0.846000; val_acc: 0.312000\n",
      "(Epoch 14 / 25) train acc: 0.860000; val_acc: 0.327000\n",
      "(Epoch 15 / 25) train acc: 0.896000; val_acc: 0.322000\n",
      "(Epoch 16 / 25) train acc: 0.896000; val_acc: 0.320000\n",
      "(Epoch 17 / 25) train acc: 0.878000; val_acc: 0.295000\n",
      "(Epoch 18 / 25) train acc: 0.904000; val_acc: 0.320000\n",
      "(Epoch 19 / 25) train acc: 0.892000; val_acc: 0.317000\n",
      "(Epoch 20 / 25) train acc: 0.926000; val_acc: 0.321000\n",
      "(Iteration 101 / 125) loss: 4.539144\n",
      "(Epoch 21 / 25) train acc: 0.928000; val_acc: 0.328000\n",
      "(Epoch 22 / 25) train acc: 0.914000; val_acc: 0.318000\n",
      "(Epoch 23 / 25) train acc: 0.940000; val_acc: 0.303000\n",
      "(Epoch 24 / 25) train acc: 0.928000; val_acc: 0.314000\n",
      "(Epoch 25 / 25) train acc: 0.932000; val_acc: 0.312000\n",
      "\n"
     ]
    }
   ],
   "source": [
    "# Train two identical nets, one with dropout and one without\n",
    "np.random.seed(220)\n",
    "num_train = 500\n",
    "small_data = {\n",
    "  'X_train': data['X_train'][:num_train],\n",
    "  'y_train': data['y_train'][:num_train],\n",
    "  'X_val': data['X_val'],\n",
    "  'y_val': data['y_val'],\n",
    "}\n",
    "\n",
    "solvers = {}\n",
    "dropout_choices = [1, 0.3]\n",
    "for dropout in dropout_choices:\n",
    "  model = FullyConnectedNet([500], dropout=dropout)\n",
    "  print(dropout)\n",
    "\n",
    "  solver = Solver(model, small_data,\n",
    "                  num_epochs=25, batch_size=100,\n",
    "                  update_rule='adam',\n",
    "                  optim_config={\n",
    "                    'learning_rate': 5e-4,\n",
    "                  },\n",
    "                  verbose=True, print_every=100)\n",
    "  solver.train()\n",
    "  solvers[dropout] = solver\n",
    "  print()"
   ]
  },
  {
   "cell_type": "code",
   "execution_count": 7,
   "metadata": {},
   "outputs": [
    {
     "data": {
      "image/png": "[encoded data removed]",
      "text/plain": [
       "<Figure size 1080x1080 with 2 Axes>"
      ]
     },
     "metadata": {
      "needs_background": "light"
     },
     "output_type": "display_data"
    }
   ],
   "source": [
    "# Plot train and validation accuracies of the two models\n",
    "\n",
    "train_accs = []\n",
    "val_accs = []\n",
    "for dropout in dropout_choices:\n",
    "  solver = solvers[dropout]\n",
    "  train_accs.append(solver.train_acc_history[-1])\n",
    "  val_accs.append(solver.val_acc_history[-1])\n",
    "\n",
    "plt.subplot(3, 1, 1)\n",
    "for dropout in dropout_choices:\n",
    "  plt.plot(solvers[dropout].train_acc_history, 'o', label='%.2f dropout' % dropout)\n",
    "plt.title('Train accuracy')\n",
    "plt.xlabel('Epoch')\n",
    "plt.ylabel('Accuracy')\n",
    "plt.legend(ncol=2, loc='lower right')\n",
    "  \n",
    "plt.subplot(3, 1, 2)\n",
    "for dropout in dropout_choices:\n",
    "  plt.plot(solvers[dropout].val_acc_history, 'o', label='%.2f dropout' % dropout)\n",
    "plt.title('Val accuracy')\n",
    "plt.xlabel('Epoch')\n",
    "plt.ylabel('Accuracy')\n",
    "plt.legend(ncol=2, loc='lower right')\n",
    "\n",
    "plt.gcf().set_size_inches(15, 15)\n",
    "plt.show()"
   ]
  },
  {
   "cell_type": "markdown",
   "metadata": {
    "tags": [
     "pdf-inline"
    ]
   },
   "source": [
    "## Inline Question 2:\n",
    "Compare the validation and training accuracies with and without dropout -- what do your results suggest about dropout as a regularizer?\n",
    "\n",
    "## Answer:\n",
    "We are overfitting the model. In the training phase, when we do not use dropout the accuracies are very high ; however, with dropout the accuracies are smaller. This suggests that with dropout we are learning a simpler model and therefore we are trying to avoid overfitting. In the validation phase, we can see that with dropout we obtained slighly better results. This suggest that effectively with dropout we are regularizing our model and we are reducing overfitting. \n"
   ]
  },
  {
   "cell_type": "markdown",
   "metadata": {
    "tags": [
     "pdf-inline"
    ]
   },
   "source": [
    "## Inline Question 3:\n",
    "Should we use dropout in the input layer? Why / Why not?\n",
    "\n",
    "## Answer:\n",
    "If Dropout is applied to the input, each sample results in dropping out random values which does not help during training. If the values were discarded in a systematic way (such as dimensionality reduction using PCA or sparsity using the greatest values in each sample), the CNN may generalize better but randomly dropping out data values does not help aliviate overfitting \n"
   ]
  },
  {
   "cell_type": "markdown",
   "metadata": {},
   "source": [
    "## Inline Question 4:\n",
    "Do the weights of the network change when trained using dropout as compared to not using dropout? If they change, do they increase or decrease as compared to not using dropout?\n",
    "\n",
    "## Answer:\n",
    "When learning large networks without dropout the problem of co-adaptation which means some neurons will have more predictive capability than the others. Over a period of training time, weaker ones are ignored. This is the reason why dropouts are used in networks.\n",
    "\n",
    "we scale the weights using the dropout P so that it becomes computationally inexpensive when calulating loss and this loss is equivalent to the loss without dropout.\n"
   ]
  },
  {
   "cell_type": "markdown",
   "metadata": {},
   "source": [
    "## Inline Question 5:\n",
    "Should we use dropout while testing? Why/Why not?\n",
    "\n",
    "## Answer:\n",
    "We should not use dropout while testing because:\n",
    "\n",
    "1) Dropout makes the neurons output the wrong value on purpose\n",
    "\n",
    "2) The consistency of the output is lost as the neurons are disabled randomly\n"
   ]
  }
 ],
 "metadata": {
  "kernelspec": {
   "display_name": "Python 3",
   "language": "python",
   "name": "python3"
  },
  "language_info": {
   "codemirror_mode": {
    "name": "ipython",
    "version": 3
   },
   "file_extension": ".py",
   "mimetype": "text/x-python",
   "name": "python",
   "nbconvert_exporter": "python",
   "pygments_lexer": "ipython3",
   "version": "3.7.3"
  }
 },
 "nbformat": 4,
 "nbformat_minor": 2
}
